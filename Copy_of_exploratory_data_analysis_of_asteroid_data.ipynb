{
  "cells": [
    {
      "cell_type": "markdown",
      "metadata": {
        "id": "view-in-github",
        "colab_type": "text"
      },
      "source": [
        "<a href=\"https://colab.research.google.com/github/anujtrivedi074/jovian-career-website/blob/main/Copy_of_exploratory_data_analysis_of_asteroid_data.ipynb\" target=\"_parent\"><img src=\"https://colab.research.google.com/assets/colab-badge.svg\" alt=\"Open In Colab\"/></a>"
      ]
    },
    {
      "cell_type": "markdown",
      "metadata": {
        "id": "9vMQNjWNKxvK"
      },
      "source": [
        "   # Exploratory-data-analysis-of-Asteroid-dataset\n",
        "\n"
      ]
    },
    {
      "cell_type": "markdown",
      "metadata": {
        "id": "mreylpgGKxvO"
      },
      "source": [
        "![](https://i.imgur.com/7D6M98d.jpg)"
      ]
    },
    {
      "cell_type": "markdown",
      "metadata": {
        "id": "t6tQxseIKxvO"
      },
      "source": [
        "## **Outline of the Project**"
      ]
    },
    {
      "cell_type": "markdown",
      "metadata": {
        "id": "zXXmdJDFKxvO"
      },
      "source": [
        "- Downloading the dataset from the online source\n",
        "- Installing the Required Packages\n",
        "- Data Preparation and cleaning using pandas\n",
        "- Performing exploratory analysis & visualization\n",
        "- Questioning and answering the questions with different visualization using matplotlib, plotly and seaborn "
      ]
    },
    {
      "cell_type": "markdown",
      "metadata": {
        "id": "LpvhsqsSRZ4-"
      },
      "source": [
        " ## **Data Exploration**"
      ]
    },
    {
      "cell_type": "markdown",
      "metadata": {
        "id": "fHPd2M6QRrkO"
      },
      "source": [
        "Basic Column Definition from the [JPL website](https://ssd.jpl.nasa.gov/tools/sbdb_query.html)\n",
        "*  SPK-ID: Object primary SPK-ID\n",
        "*  Object ID: Object internal database ID\n",
        "*  Object fullname: Object full name/designation\n",
        "*  pdes: Object primary designation\n",
        "*  name: Object IAU name\n",
        "*  NEO: Near-Earth Object (NEO) flag\n",
        "*  PHA: Potentially Hazardous Asteroid (PHA) flag\n",
        "*  H: Absolute magnitude parameter\n",
        "*  Diameter: object diameter (from equivalent sphere) km Unit\n",
        "*  Albedo: Geometric albedo\n",
        "*  Diameter_sigma: 1-sigma uncertainty in object diameter km Unit\n",
        "*  Orbit_id: Orbit solution ID\n",
        "*  Epoch: Epoch of osculation in modified Julian day form\n",
        "*  Equinox: Equinox of reference frame\n",
        "*  e: Eccentricity\n",
        "*  a: Semi-major axis au Unit\n",
        "*  q: perihelion distance au Unit\n",
        "*  i: inclination; angle with respect to x-y ecliptic plane\n",
        "*  tp: Time of perihelion passage TDB Unit\n",
        "*  moid_ld: Earth Minimum Orbit Intersection Distance au Unit\n",
        "\n",
        "\n",
        "\n"
      ]
    },
    {
      "cell_type": "markdown",
      "metadata": {
        "id": "_lQedxArKxvP"
      },
      "source": [
        "## **How to Run Code**"
      ]
    },
    {
      "cell_type": "markdown",
      "metadata": {
        "id": "A5v5zVZ5KxvP"
      },
      "source": [
        "The easiest way to start executing is to click the Run button and select \"Run on Colab\" and you'll need to create an account to use Google Colab/Kaggle to use the platform, and to execute the code click on \"Runtime\" button at the top of this page and select \"Run Selection\" on Colab. You can also select \"Run on Binder\". You can make changes and save your own version of the notebook to Jovian by executing the following cells.\n",
        "\n",
        "When you are commiting the notebook to Jovian for the first time in \"Colab\" it will ask for API key which will be found in your Jovian account getstarted section."
      ]
    },
    {
      "cell_type": "code",
      "execution_count": 1,
      "metadata": {
        "colab": {
          "base_uri": "https://localhost:8080/"
        },
        "id": "g_tcKDb3KxvP",
        "outputId": "cdc5ceb9-92fd-46a8-d6ee-f707b10020d6"
      },
      "outputs": [
        {
          "output_type": "stream",
          "name": "stdout",
          "text": [
            "\u001b[?25l     \u001b[90m━━━━━━━━━━━━━━━━━━━━━━━━━━━━━━━━━━━━━━━━\u001b[0m \u001b[32m0.0/68.6 KB\u001b[0m \u001b[31m?\u001b[0m eta \u001b[36m-:--:--\u001b[0m\r\u001b[2K     \u001b[90m━━━━━━━━━━━━━━━━━━━━━━━━━━━━━━━━━━━━━━━━\u001b[0m \u001b[32m68.6/68.6 KB\u001b[0m \u001b[31m2.1 MB/s\u001b[0m eta \u001b[36m0:00:00\u001b[0m\n",
            "\u001b[?25h  Preparing metadata (setup.py) ... \u001b[?25l\u001b[?25hdone\n",
            "  Building wheel for uuid (setup.py) ... \u001b[?25l\u001b[?25hdone\n"
          ]
        }
      ],
      "source": [
        "!pip install jovian --upgrade --quiet"
      ]
    },
    {
      "cell_type": "code",
      "execution_count": 2,
      "metadata": {
        "id": "wQ39Okd8KxvQ"
      },
      "outputs": [],
      "source": [
        "import jovian"
      ]
    },
    {
      "cell_type": "code",
      "execution_count": 3,
      "metadata": {
        "colab": {
          "base_uri": "https://localhost:8080/"
        },
        "id": "fQZo9kywKxvR",
        "outputId": "48c46eec-b2bf-4a49-bbea-1612981765c7"
      },
      "outputs": [
        {
          "output_type": "stream",
          "name": "stdout",
          "text": [
            "[jovian] Detected Colab notebook...\u001b[0m\n",
            "[jovian] jovian.commit() is no longer required on Google Colab. If you ran this notebook from Jovian, \n",
            "then just save this file in Colab using Ctrl+S/Cmd+S and it will be updated on Jovian. \n",
            "Also, you can also delete this cell, it's no longer necessary.\u001b[0m\n"
          ]
        }
      ],
      "source": [
        "# Execute this to save new versions of the notebook\n",
        "jovian.commit()"
      ]
    },
    {
      "cell_type": "markdown",
      "metadata": {
        "id": "8RtY8wdIKxvS"
      },
      "source": [
        "## Install and Import all required Libraries"
      ]
    },
    {
      "cell_type": "code",
      "execution_count": 4,
      "metadata": {
        "id": "XyZoya7NKxvS"
      },
      "outputs": [],
      "source": [
        "\n",
        "!pip install  matplotlib seaborn --upgrade --quiet\n",
        "!pip install plotly --quiet\n",
        "!pip install matplotlib --quiet\n",
        "!pip install folium --quiet\n",
        "!pip install numpy pandas --quiet\n"
      ]
    },
    {
      "cell_type": "code",
      "execution_count": 5,
      "metadata": {
        "id": "hY1B5520KxvS"
      },
      "outputs": [],
      "source": [
        "import pandas as pd\n",
        "import numpy as np\n",
        "import seaborn as sns\n",
        "import matplotlib.pyplot as plt\n",
        "import matplotlib\n",
        "import plotly.express "
      ]
    },
    {
      "cell_type": "markdown",
      "metadata": {
        "id": "VWlvVgMXKxvS"
      },
      "source": [
        "## **Downloading the dataset from online source**"
      ]
    },
    {
      "cell_type": "markdown",
      "metadata": {
        "id": "itQqC1UpKxvT"
      },
      "source": [
        "\n",
        "\n",
        "**TODO** - Installing the asteroid data set"
      ]
    },
    {
      "cell_type": "code",
      "source": [],
      "metadata": {
        "id": "JuMdgla5r0-a"
      },
      "execution_count": 5,
      "outputs": []
    },
    {
      "cell_type": "markdown",
      "metadata": {
        "id": "O5Ih_5ejKxvT"
      },
      "source": [
        "> Instructions for downloading the dataset:\n",
        ">\n",
        "> - Find an interesting dataset on this page: https://www.kaggle.com/datasets?fileType=csv\n",
        "> - The data should be in CSV format, and should contain at least 3 columns and 150 rows\n",
        "> - Download the dataset using the [`opendatasets` Python library](https://github.com/JovianML/opendatasets#opendatasets)"
      ]
    },
    {
      "cell_type": "code",
      "execution_count": 6,
      "metadata": {
        "id": "-VVSBalQKxvT"
      },
      "outputs": [],
      "source": [
        "!pip install jovian opendatasets --upgrade --quiet"
      ]
    },
    {
      "cell_type": "code",
      "execution_count": 7,
      "metadata": {
        "id": "t8jwuC5aKxvT"
      },
      "outputs": [],
      "source": [
        "\n",
        "dataset_url = 'https://www.kaggle.com/datasets/sakhawat18/asteroid-dataset' "
      ]
    },
    {
      "cell_type": "code",
      "execution_count": 8,
      "metadata": {
        "colab": {
          "base_uri": "https://localhost:8080/"
        },
        "id": "ER1Xro9uKxvU",
        "outputId": "bb4356d0-cd37-45e2-c58d-d0d100b25e1a"
      },
      "outputs": [
        {
          "output_type": "stream",
          "name": "stdout",
          "text": [
            "Please provide your Kaggle credentials to download this dataset. Learn more: http://bit.ly/kaggle-creds\n",
            "Your Kaggle username: anujtrivedi\n",
            "Your Kaggle Key: ··········\n",
            "Downloading asteroid-dataset.zip to ./asteroid-dataset\n"
          ]
        },
        {
          "output_type": "stream",
          "name": "stderr",
          "text": [
            "100%|██████████| 182M/182M [00:01<00:00, 115MB/s]\n"
          ]
        },
        {
          "output_type": "stream",
          "name": "stdout",
          "text": [
            "\n"
          ]
        }
      ],
      "source": [
        "import opendatasets as od\n",
        "od.download(dataset_url)"
      ]
    },
    {
      "cell_type": "code",
      "execution_count": 9,
      "metadata": {
        "id": "ADaMhgwCKxvU"
      },
      "outputs": [],
      "source": [
        "import opendatasets as od"
      ]
    },
    {
      "cell_type": "code",
      "execution_count": 10,
      "metadata": {
        "id": "DUWhkvS3KxvU"
      },
      "outputs": [],
      "source": [
        "data_dir = './asteroid-dataset/dataset.csv'"
      ]
    },
    {
      "cell_type": "code",
      "execution_count": 11,
      "metadata": {
        "id": "9X4nf8NQKxvU"
      },
      "outputs": [],
      "source": [
        "project_name = \"Exploratory data analysis of asteroid data\" "
      ]
    },
    {
      "cell_type": "code",
      "execution_count": 12,
      "metadata": {
        "id": "5cJmhPw9KxvV"
      },
      "outputs": [],
      "source": [
        "!pip install jovian --upgrade -q"
      ]
    },
    {
      "cell_type": "code",
      "execution_count": 13,
      "metadata": {
        "id": "iPUy_DV2KxvV"
      },
      "outputs": [],
      "source": [
        "import jovian"
      ]
    },
    {
      "cell_type": "code",
      "execution_count": 14,
      "metadata": {
        "id": "WZQ_QBKnKxvV",
        "colab": {
          "base_uri": "https://localhost:8080/"
        },
        "outputId": "06307cb4-d1ea-47f0-ebab-839f16bf9897"
      },
      "outputs": [
        {
          "output_type": "stream",
          "name": "stdout",
          "text": [
            "[jovian] Detected Colab notebook...\u001b[0m\n",
            "[jovian] jovian.commit() is no longer required on Google Colab. If you ran this notebook from Jovian, \n",
            "then just save this file in Colab using Ctrl+S/Cmd+S and it will be updated on Jovian. \n",
            "Also, you can also delete this cell, it's no longer necessary.\u001b[0m\n"
          ]
        }
      ],
      "source": [
        "jovian.commit(project=project_name)"
      ]
    },
    {
      "cell_type": "markdown",
      "metadata": {
        "id": "NgJmr6uwKxvV"
      },
      "source": [
        "#Data preparation and cleaning with Pandas \n",
        "\n",
        "The quality of data is the most crucial element of any business intelligence strategy. Data cleaning is the process of fixing or removing incorrect, corrupted, incorrectly formatted, duplicate, or incomplete data within a dataset. it has following steps:\n",
        "*  Drop any irrelevant columns\n",
        "*  Drop any duplicate columns/rows\n",
        "*  Rename Columns\n",
        "*  Feature Creation\n",
        "\n",
        "Let's view the dataset."
      ]
    },
    {
      "cell_type": "code",
      "execution_count": 15,
      "metadata": {
        "id": "B7vPHCGtKxvV"
      },
      "outputs": [],
      "source": [
        "asteroid_df = pd.read_csv(data_dir, low_memory=False) "
      ]
    },
    {
      "cell_type": "code",
      "execution_count": 15,
      "metadata": {
        "id": "vX5W_V4gKxvV"
      },
      "outputs": [],
      "source": []
    },
    {
      "cell_type": "code",
      "execution_count": 16,
      "metadata": {
        "id": "eS8TGb9iKxvV",
        "colab": {
          "base_uri": "https://localhost:8080/",
          "height": 424
        },
        "outputId": "45700465-7c81-45ca-b7cc-7021d59079c4"
      },
      "outputs": [
        {
          "output_type": "execute_result",
          "data": {
            "text/plain": [
              "              id    spkid          full_name      pdes     name prefix neo  \\\n",
              "0       a0000001  2000001            1 Ceres         1    Ceres    NaN   N   \n",
              "1       a0000002  2000002           2 Pallas         2   Pallas    NaN   N   \n",
              "2       a0000003  2000003             3 Juno         3     Juno    NaN   N   \n",
              "3       a0000004  2000004            4 Vesta         4    Vesta    NaN   N   \n",
              "4       a0000005  2000005          5 Astraea         5  Astraea    NaN   N   \n",
              "...          ...      ...                ...       ...      ...    ...  ..   \n",
              "958519  bPLS6013  3246801         (6013 P-L)  6013 P-L      NaN    NaN   N   \n",
              "958520  bPLS6331  3246834         (6331 P-L)  6331 P-L      NaN    NaN   N   \n",
              "958521  bPLS6344  3013075         (6344 P-L)  6344 P-L      NaN    NaN   Y   \n",
              "958522  bT2S2060  3246457         (2060 T-2)  2060 T-2      NaN    NaN   N   \n",
              "958523  bT3S2678  3246553         (2678 T-3)  2678 T-3      NaN    NaN   N   \n",
              "\n",
              "       pha       H  diameter  ...       sigma_i      sigma_om       sigma_w  \\\n",
              "0        N   3.400   939.400  ...  4.608900e-09  6.168800e-08  6.624800e-08   \n",
              "1        N   4.200   545.000  ...  3.469400e-06  6.272400e-06  9.128200e-06   \n",
              "2        N   5.330   246.596  ...  3.223100e-06  1.664600e-05  1.772100e-05   \n",
              "3        N   3.000   525.400  ...  2.170600e-07  3.880800e-07  1.789300e-07   \n",
              "4        N   6.900   106.699  ...  2.740800e-06  2.894900e-05  2.984200e-05   \n",
              "...     ..     ...       ...  ...           ...           ...           ...   \n",
              "958519   N  17.135       NaN  ...  6.969000e+00  7.433000e+00  4.631100e+01   \n",
              "958520   N  18.500       NaN  ...  1.563500e-05  5.598600e-05  2.380400e-04   \n",
              "958521   Y  20.400       NaN  ...  1.853300e-05  5.691700e-05  8.969200e-05   \n",
              "958522   N  18.071       NaN  ...  5.448800e-01  4.391600e+00  1.898800e+01   \n",
              "958523   N  18.060       NaN  ...  1.102300e+00  3.117000e-01  1.284300e+00   \n",
              "\n",
              "            sigma_ma      sigma_ad       sigma_n      sigma_tp     sigma_per  \\\n",
              "0       7.820700e-09  1.111300e-11  1.196500e-12  3.782900e-08  9.415900e-09   \n",
              "1       8.859100e-06  4.961300e-09  4.653600e-10  4.078700e-05  3.680700e-06   \n",
              "2       8.110400e-06  4.363900e-09  4.413400e-10  3.528800e-05  3.107200e-06   \n",
              "3       1.206800e-06  1.648600e-09  2.612500e-10  4.103700e-06  1.274900e-06   \n",
              "4       8.303800e-06  4.729000e-09  5.522700e-10  3.474300e-05  3.490500e-06   \n",
              "...              ...           ...           ...           ...           ...   \n",
              "958519  2.738300e+01  1.041200e+00  1.652100e-01  1.309700e+02  7.264900e+02   \n",
              "958520  1.298200e-04  2.418900e-08  3.346100e-09  4.690200e-04  1.578500e-05   \n",
              "958521  5.272600e-05  1.650100e-07  1.101600e-08  2.830600e-04  9.127500e-05   \n",
              "958522  1.083800e+01  7.171600e-01  1.016700e-01  3.898400e+01  5.035500e+02   \n",
              "958523  4.736100e-01  1.626700e-01  2.487900e-02  5.523600e+00  1.064800e+02   \n",
              "\n",
              "        class      rms  \n",
              "0         MBA  0.43301  \n",
              "1         MBA  0.35936  \n",
              "2         MBA  0.33848  \n",
              "3         MBA  0.39980  \n",
              "4         MBA  0.52191  \n",
              "...       ...      ...  \n",
              "958519    MBA  0.23839  \n",
              "958520    MBA  0.53633  \n",
              "958521    APO  0.51556  \n",
              "958522    MBA  0.25641  \n",
              "958523    MBA  0.26980  \n",
              "\n",
              "[958524 rows x 45 columns]"
            ],
            "text/html": [
              "\n",
              "  <div id=\"df-74a30707-4cd9-44bd-91ac-a66f9e5e2057\">\n",
              "    <div class=\"colab-df-container\">\n",
              "      <div>\n",
              "<style scoped>\n",
              "    .dataframe tbody tr th:only-of-type {\n",
              "        vertical-align: middle;\n",
              "    }\n",
              "\n",
              "    .dataframe tbody tr th {\n",
              "        vertical-align: top;\n",
              "    }\n",
              "\n",
              "    .dataframe thead th {\n",
              "        text-align: right;\n",
              "    }\n",
              "</style>\n",
              "<table border=\"1\" class=\"dataframe\">\n",
              "  <thead>\n",
              "    <tr style=\"text-align: right;\">\n",
              "      <th></th>\n",
              "      <th>id</th>\n",
              "      <th>spkid</th>\n",
              "      <th>full_name</th>\n",
              "      <th>pdes</th>\n",
              "      <th>name</th>\n",
              "      <th>prefix</th>\n",
              "      <th>neo</th>\n",
              "      <th>pha</th>\n",
              "      <th>H</th>\n",
              "      <th>diameter</th>\n",
              "      <th>...</th>\n",
              "      <th>sigma_i</th>\n",
              "      <th>sigma_om</th>\n",
              "      <th>sigma_w</th>\n",
              "      <th>sigma_ma</th>\n",
              "      <th>sigma_ad</th>\n",
              "      <th>sigma_n</th>\n",
              "      <th>sigma_tp</th>\n",
              "      <th>sigma_per</th>\n",
              "      <th>class</th>\n",
              "      <th>rms</th>\n",
              "    </tr>\n",
              "  </thead>\n",
              "  <tbody>\n",
              "    <tr>\n",
              "      <th>0</th>\n",
              "      <td>a0000001</td>\n",
              "      <td>2000001</td>\n",
              "      <td>1 Ceres</td>\n",
              "      <td>1</td>\n",
              "      <td>Ceres</td>\n",
              "      <td>NaN</td>\n",
              "      <td>N</td>\n",
              "      <td>N</td>\n",
              "      <td>3.400</td>\n",
              "      <td>939.400</td>\n",
              "      <td>...</td>\n",
              "      <td>4.608900e-09</td>\n",
              "      <td>6.168800e-08</td>\n",
              "      <td>6.624800e-08</td>\n",
              "      <td>7.820700e-09</td>\n",
              "      <td>1.111300e-11</td>\n",
              "      <td>1.196500e-12</td>\n",
              "      <td>3.782900e-08</td>\n",
              "      <td>9.415900e-09</td>\n",
              "      <td>MBA</td>\n",
              "      <td>0.43301</td>\n",
              "    </tr>\n",
              "    <tr>\n",
              "      <th>1</th>\n",
              "      <td>a0000002</td>\n",
              "      <td>2000002</td>\n",
              "      <td>2 Pallas</td>\n",
              "      <td>2</td>\n",
              "      <td>Pallas</td>\n",
              "      <td>NaN</td>\n",
              "      <td>N</td>\n",
              "      <td>N</td>\n",
              "      <td>4.200</td>\n",
              "      <td>545.000</td>\n",
              "      <td>...</td>\n",
              "      <td>3.469400e-06</td>\n",
              "      <td>6.272400e-06</td>\n",
              "      <td>9.128200e-06</td>\n",
              "      <td>8.859100e-06</td>\n",
              "      <td>4.961300e-09</td>\n",
              "      <td>4.653600e-10</td>\n",
              "      <td>4.078700e-05</td>\n",
              "      <td>3.680700e-06</td>\n",
              "      <td>MBA</td>\n",
              "      <td>0.35936</td>\n",
              "    </tr>\n",
              "    <tr>\n",
              "      <th>2</th>\n",
              "      <td>a0000003</td>\n",
              "      <td>2000003</td>\n",
              "      <td>3 Juno</td>\n",
              "      <td>3</td>\n",
              "      <td>Juno</td>\n",
              "      <td>NaN</td>\n",
              "      <td>N</td>\n",
              "      <td>N</td>\n",
              "      <td>5.330</td>\n",
              "      <td>246.596</td>\n",
              "      <td>...</td>\n",
              "      <td>3.223100e-06</td>\n",
              "      <td>1.664600e-05</td>\n",
              "      <td>1.772100e-05</td>\n",
              "      <td>8.110400e-06</td>\n",
              "      <td>4.363900e-09</td>\n",
              "      <td>4.413400e-10</td>\n",
              "      <td>3.528800e-05</td>\n",
              "      <td>3.107200e-06</td>\n",
              "      <td>MBA</td>\n",
              "      <td>0.33848</td>\n",
              "    </tr>\n",
              "    <tr>\n",
              "      <th>3</th>\n",
              "      <td>a0000004</td>\n",
              "      <td>2000004</td>\n",
              "      <td>4 Vesta</td>\n",
              "      <td>4</td>\n",
              "      <td>Vesta</td>\n",
              "      <td>NaN</td>\n",
              "      <td>N</td>\n",
              "      <td>N</td>\n",
              "      <td>3.000</td>\n",
              "      <td>525.400</td>\n",
              "      <td>...</td>\n",
              "      <td>2.170600e-07</td>\n",
              "      <td>3.880800e-07</td>\n",
              "      <td>1.789300e-07</td>\n",
              "      <td>1.206800e-06</td>\n",
              "      <td>1.648600e-09</td>\n",
              "      <td>2.612500e-10</td>\n",
              "      <td>4.103700e-06</td>\n",
              "      <td>1.274900e-06</td>\n",
              "      <td>MBA</td>\n",
              "      <td>0.39980</td>\n",
              "    </tr>\n",
              "    <tr>\n",
              "      <th>4</th>\n",
              "      <td>a0000005</td>\n",
              "      <td>2000005</td>\n",
              "      <td>5 Astraea</td>\n",
              "      <td>5</td>\n",
              "      <td>Astraea</td>\n",
              "      <td>NaN</td>\n",
              "      <td>N</td>\n",
              "      <td>N</td>\n",
              "      <td>6.900</td>\n",
              "      <td>106.699</td>\n",
              "      <td>...</td>\n",
              "      <td>2.740800e-06</td>\n",
              "      <td>2.894900e-05</td>\n",
              "      <td>2.984200e-05</td>\n",
              "      <td>8.303800e-06</td>\n",
              "      <td>4.729000e-09</td>\n",
              "      <td>5.522700e-10</td>\n",
              "      <td>3.474300e-05</td>\n",
              "      <td>3.490500e-06</td>\n",
              "      <td>MBA</td>\n",
              "      <td>0.52191</td>\n",
              "    </tr>\n",
              "    <tr>\n",
              "      <th>...</th>\n",
              "      <td>...</td>\n",
              "      <td>...</td>\n",
              "      <td>...</td>\n",
              "      <td>...</td>\n",
              "      <td>...</td>\n",
              "      <td>...</td>\n",
              "      <td>...</td>\n",
              "      <td>...</td>\n",
              "      <td>...</td>\n",
              "      <td>...</td>\n",
              "      <td>...</td>\n",
              "      <td>...</td>\n",
              "      <td>...</td>\n",
              "      <td>...</td>\n",
              "      <td>...</td>\n",
              "      <td>...</td>\n",
              "      <td>...</td>\n",
              "      <td>...</td>\n",
              "      <td>...</td>\n",
              "      <td>...</td>\n",
              "      <td>...</td>\n",
              "    </tr>\n",
              "    <tr>\n",
              "      <th>958519</th>\n",
              "      <td>bPLS6013</td>\n",
              "      <td>3246801</td>\n",
              "      <td>(6013 P-L)</td>\n",
              "      <td>6013 P-L</td>\n",
              "      <td>NaN</td>\n",
              "      <td>NaN</td>\n",
              "      <td>N</td>\n",
              "      <td>N</td>\n",
              "      <td>17.135</td>\n",
              "      <td>NaN</td>\n",
              "      <td>...</td>\n",
              "      <td>6.969000e+00</td>\n",
              "      <td>7.433000e+00</td>\n",
              "      <td>4.631100e+01</td>\n",
              "      <td>2.738300e+01</td>\n",
              "      <td>1.041200e+00</td>\n",
              "      <td>1.652100e-01</td>\n",
              "      <td>1.309700e+02</td>\n",
              "      <td>7.264900e+02</td>\n",
              "      <td>MBA</td>\n",
              "      <td>0.23839</td>\n",
              "    </tr>\n",
              "    <tr>\n",
              "      <th>958520</th>\n",
              "      <td>bPLS6331</td>\n",
              "      <td>3246834</td>\n",
              "      <td>(6331 P-L)</td>\n",
              "      <td>6331 P-L</td>\n",
              "      <td>NaN</td>\n",
              "      <td>NaN</td>\n",
              "      <td>N</td>\n",
              "      <td>N</td>\n",
              "      <td>18.500</td>\n",
              "      <td>NaN</td>\n",
              "      <td>...</td>\n",
              "      <td>1.563500e-05</td>\n",
              "      <td>5.598600e-05</td>\n",
              "      <td>2.380400e-04</td>\n",
              "      <td>1.298200e-04</td>\n",
              "      <td>2.418900e-08</td>\n",
              "      <td>3.346100e-09</td>\n",
              "      <td>4.690200e-04</td>\n",
              "      <td>1.578500e-05</td>\n",
              "      <td>MBA</td>\n",
              "      <td>0.53633</td>\n",
              "    </tr>\n",
              "    <tr>\n",
              "      <th>958521</th>\n",
              "      <td>bPLS6344</td>\n",
              "      <td>3013075</td>\n",
              "      <td>(6344 P-L)</td>\n",
              "      <td>6344 P-L</td>\n",
              "      <td>NaN</td>\n",
              "      <td>NaN</td>\n",
              "      <td>Y</td>\n",
              "      <td>Y</td>\n",
              "      <td>20.400</td>\n",
              "      <td>NaN</td>\n",
              "      <td>...</td>\n",
              "      <td>1.853300e-05</td>\n",
              "      <td>5.691700e-05</td>\n",
              "      <td>8.969200e-05</td>\n",
              "      <td>5.272600e-05</td>\n",
              "      <td>1.650100e-07</td>\n",
              "      <td>1.101600e-08</td>\n",
              "      <td>2.830600e-04</td>\n",
              "      <td>9.127500e-05</td>\n",
              "      <td>APO</td>\n",
              "      <td>0.51556</td>\n",
              "    </tr>\n",
              "    <tr>\n",
              "      <th>958522</th>\n",
              "      <td>bT2S2060</td>\n",
              "      <td>3246457</td>\n",
              "      <td>(2060 T-2)</td>\n",
              "      <td>2060 T-2</td>\n",
              "      <td>NaN</td>\n",
              "      <td>NaN</td>\n",
              "      <td>N</td>\n",
              "      <td>N</td>\n",
              "      <td>18.071</td>\n",
              "      <td>NaN</td>\n",
              "      <td>...</td>\n",
              "      <td>5.448800e-01</td>\n",
              "      <td>4.391600e+00</td>\n",
              "      <td>1.898800e+01</td>\n",
              "      <td>1.083800e+01</td>\n",
              "      <td>7.171600e-01</td>\n",
              "      <td>1.016700e-01</td>\n",
              "      <td>3.898400e+01</td>\n",
              "      <td>5.035500e+02</td>\n",
              "      <td>MBA</td>\n",
              "      <td>0.25641</td>\n",
              "    </tr>\n",
              "    <tr>\n",
              "      <th>958523</th>\n",
              "      <td>bT3S2678</td>\n",
              "      <td>3246553</td>\n",
              "      <td>(2678 T-3)</td>\n",
              "      <td>2678 T-3</td>\n",
              "      <td>NaN</td>\n",
              "      <td>NaN</td>\n",
              "      <td>N</td>\n",
              "      <td>N</td>\n",
              "      <td>18.060</td>\n",
              "      <td>NaN</td>\n",
              "      <td>...</td>\n",
              "      <td>1.102300e+00</td>\n",
              "      <td>3.117000e-01</td>\n",
              "      <td>1.284300e+00</td>\n",
              "      <td>4.736100e-01</td>\n",
              "      <td>1.626700e-01</td>\n",
              "      <td>2.487900e-02</td>\n",
              "      <td>5.523600e+00</td>\n",
              "      <td>1.064800e+02</td>\n",
              "      <td>MBA</td>\n",
              "      <td>0.26980</td>\n",
              "    </tr>\n",
              "  </tbody>\n",
              "</table>\n",
              "<p>958524 rows × 45 columns</p>\n",
              "</div>\n",
              "      <button class=\"colab-df-convert\" onclick=\"convertToInteractive('df-74a30707-4cd9-44bd-91ac-a66f9e5e2057')\"\n",
              "              title=\"Convert this dataframe to an interactive table.\"\n",
              "              style=\"display:none;\">\n",
              "        \n",
              "  <svg xmlns=\"http://www.w3.org/2000/svg\" height=\"24px\"viewBox=\"0 0 24 24\"\n",
              "       width=\"24px\">\n",
              "    <path d=\"M0 0h24v24H0V0z\" fill=\"none\"/>\n",
              "    <path d=\"M18.56 5.44l.94 2.06.94-2.06 2.06-.94-2.06-.94-.94-2.06-.94 2.06-2.06.94zm-11 1L8.5 8.5l.94-2.06 2.06-.94-2.06-.94L8.5 2.5l-.94 2.06-2.06.94zm10 10l.94 2.06.94-2.06 2.06-.94-2.06-.94-.94-2.06-.94 2.06-2.06.94z\"/><path d=\"M17.41 7.96l-1.37-1.37c-.4-.4-.92-.59-1.43-.59-.52 0-1.04.2-1.43.59L10.3 9.45l-7.72 7.72c-.78.78-.78 2.05 0 2.83L4 21.41c.39.39.9.59 1.41.59.51 0 1.02-.2 1.41-.59l7.78-7.78 2.81-2.81c.8-.78.8-2.07 0-2.86zM5.41 20L4 18.59l7.72-7.72 1.47 1.35L5.41 20z\"/>\n",
              "  </svg>\n",
              "      </button>\n",
              "      \n",
              "  <style>\n",
              "    .colab-df-container {\n",
              "      display:flex;\n",
              "      flex-wrap:wrap;\n",
              "      gap: 12px;\n",
              "    }\n",
              "\n",
              "    .colab-df-convert {\n",
              "      background-color: #E8F0FE;\n",
              "      border: none;\n",
              "      border-radius: 50%;\n",
              "      cursor: pointer;\n",
              "      display: none;\n",
              "      fill: #1967D2;\n",
              "      height: 32px;\n",
              "      padding: 0 0 0 0;\n",
              "      width: 32px;\n",
              "    }\n",
              "\n",
              "    .colab-df-convert:hover {\n",
              "      background-color: #E2EBFA;\n",
              "      box-shadow: 0px 1px 2px rgba(60, 64, 67, 0.3), 0px 1px 3px 1px rgba(60, 64, 67, 0.15);\n",
              "      fill: #174EA6;\n",
              "    }\n",
              "\n",
              "    [theme=dark] .colab-df-convert {\n",
              "      background-color: #3B4455;\n",
              "      fill: #D2E3FC;\n",
              "    }\n",
              "\n",
              "    [theme=dark] .colab-df-convert:hover {\n",
              "      background-color: #434B5C;\n",
              "      box-shadow: 0px 1px 3px 1px rgba(0, 0, 0, 0.15);\n",
              "      filter: drop-shadow(0px 1px 2px rgba(0, 0, 0, 0.3));\n",
              "      fill: #FFFFFF;\n",
              "    }\n",
              "  </style>\n",
              "\n",
              "      <script>\n",
              "        const buttonEl =\n",
              "          document.querySelector('#df-74a30707-4cd9-44bd-91ac-a66f9e5e2057 button.colab-df-convert');\n",
              "        buttonEl.style.display =\n",
              "          google.colab.kernel.accessAllowed ? 'block' : 'none';\n",
              "\n",
              "        async function convertToInteractive(key) {\n",
              "          const element = document.querySelector('#df-74a30707-4cd9-44bd-91ac-a66f9e5e2057');\n",
              "          const dataTable =\n",
              "            await google.colab.kernel.invokeFunction('convertToInteractive',\n",
              "                                                     [key], {});\n",
              "          if (!dataTable) return;\n",
              "\n",
              "          const docLinkHtml = 'Like what you see? Visit the ' +\n",
              "            '<a target=\"_blank\" href=https://colab.research.google.com/notebooks/data_table.ipynb>data table notebook</a>'\n",
              "            + ' to learn more about interactive tables.';\n",
              "          element.innerHTML = '';\n",
              "          dataTable['output_type'] = 'display_data';\n",
              "          await google.colab.output.renderOutput(dataTable, element);\n",
              "          const docLink = document.createElement('div');\n",
              "          docLink.innerHTML = docLinkHtml;\n",
              "          element.appendChild(docLink);\n",
              "        }\n",
              "      </script>\n",
              "    </div>\n",
              "  </div>\n",
              "  "
            ]
          },
          "metadata": {},
          "execution_count": 16
        }
      ],
      "source": [
        "asteroid_df"
      ]
    },
    {
      "cell_type": "code",
      "execution_count": 17,
      "metadata": {
        "id": "TjKcGN1WKxvW",
        "colab": {
          "base_uri": "https://localhost:8080/"
        },
        "outputId": "2838f718-a5cb-489e-b9e8-b1ea86a03d42"
      },
      "outputs": [
        {
          "output_type": "stream",
          "name": "stdout",
          "text": [
            "[jovian] Detected Colab notebook...\u001b[0m\n",
            "[jovian] jovian.commit() is no longer required on Google Colab. If you ran this notebook from Jovian, \n",
            "then just save this file in Colab using Ctrl+S/Cmd+S and it will be updated on Jovian. \n",
            "Also, you can also delete this cell, it's no longer necessary.\u001b[0m\n"
          ]
        }
      ],
      "source": [
        "jovian.commit()"
      ]
    },
    {
      "cell_type": "code",
      "execution_count": 18,
      "metadata": {
        "id": "Hz8Kh9uDKxvW",
        "colab": {
          "base_uri": "https://localhost:8080/"
        },
        "outputId": "44906b68-cdd9-44df-a62d-e15c7472a7ec"
      },
      "outputs": [
        {
          "output_type": "stream",
          "name": "stdout",
          "text": [
            "<class 'pandas.core.frame.DataFrame'>\n",
            "RangeIndex: 958524 entries, 0 to 958523\n",
            "Data columns (total 45 columns):\n",
            " #   Column          Non-Null Count   Dtype  \n",
            "---  ------          --------------   -----  \n",
            " 0   id              958524 non-null  object \n",
            " 1   spkid           958524 non-null  int64  \n",
            " 2   full_name       958524 non-null  object \n",
            " 3   pdes            958524 non-null  object \n",
            " 4   name            22064 non-null   object \n",
            " 5   prefix          18 non-null      object \n",
            " 6   neo             958520 non-null  object \n",
            " 7   pha             938603 non-null  object \n",
            " 8   H               952261 non-null  float64\n",
            " 9   diameter        136209 non-null  float64\n",
            " 10  albedo          135103 non-null  float64\n",
            " 11  diameter_sigma  136081 non-null  float64\n",
            " 12  orbit_id        958524 non-null  object \n",
            " 13  epoch           958524 non-null  float64\n",
            " 14  epoch_mjd       958524 non-null  int64  \n",
            " 15  epoch_cal       958524 non-null  float64\n",
            " 16  equinox         958524 non-null  object \n",
            " 17  e               958524 non-null  float64\n",
            " 18  a               958524 non-null  float64\n",
            " 19  q               958524 non-null  float64\n",
            " 20  i               958524 non-null  float64\n",
            " 21  om              958524 non-null  float64\n",
            " 22  w               958524 non-null  float64\n",
            " 23  ma              958523 non-null  float64\n",
            " 24  ad              958520 non-null  float64\n",
            " 25  n               958524 non-null  float64\n",
            " 26  tp              958524 non-null  float64\n",
            " 27  tp_cal          958524 non-null  float64\n",
            " 28  per             958520 non-null  float64\n",
            " 29  per_y           958523 non-null  float64\n",
            " 30  moid            938603 non-null  float64\n",
            " 31  moid_ld         958397 non-null  float64\n",
            " 32  sigma_e         938602 non-null  float64\n",
            " 33  sigma_a         938602 non-null  float64\n",
            " 34  sigma_q         938602 non-null  float64\n",
            " 35  sigma_i         938602 non-null  float64\n",
            " 36  sigma_om        938602 non-null  float64\n",
            " 37  sigma_w         938602 non-null  float64\n",
            " 38  sigma_ma        938602 non-null  float64\n",
            " 39  sigma_ad        938598 non-null  float64\n",
            " 40  sigma_n         938602 non-null  float64\n",
            " 41  sigma_tp        938602 non-null  float64\n",
            " 42  sigma_per       938598 non-null  float64\n",
            " 43  class           958524 non-null  object \n",
            " 44  rms             958522 non-null  float64\n",
            "dtypes: float64(33), int64(2), object(10)\n",
            "memory usage: 329.1+ MB\n"
          ]
        }
      ],
      "source": [
        "asteroid_df.info() #basic information about the dataset such as Dtype and non-null columns"
      ]
    },
    {
      "cell_type": "markdown",
      "metadata": {
        "id": "IUYYaJNghO1E"
      },
      "source": [
        "So there is no null value for column  **'id'**, **'spkid'**, **'full_name' and  'pdes'** and these are asteroid identifying columns.\n",
        "\n",
        "The columns \"id,\" \"spkid,\" and \"full name\" are specific to each entry. Columns \"pdes\" and \"name\" contain the numbers from the \"full name\" column. Since they won't help with the research, these columns can be deleted. Alphanumeric values are present in the 'id' field but not in the'spkid' column. As a result, column \"id\" can also be deleted.\n",
        "\n",
        "\n"
      ]
    },
    {
      "cell_type": "code",
      "execution_count": 19,
      "metadata": {
        "id": "srHIzu42WD2H",
        "colab": {
          "base_uri": "https://localhost:8080/",
          "height": 374
        },
        "outputId": "a549c5cb-db59-4744-91c0-691910a2d95f"
      },
      "outputs": [
        {
          "output_type": "execute_result",
          "data": {
            "text/plain": [
              "              spkid              H       diameter         albedo  \\\n",
              "count  9.585240e+05  952261.000000  136209.000000  135103.000000   \n",
              "mean   3.810114e+06      16.906411       5.506429       0.130627   \n",
              "std    6.831541e+06       1.790405       9.425164       0.110323   \n",
              "min    2.000001e+06      -1.100000       0.002500       0.001000   \n",
              "25%    2.239632e+06      16.100000       2.780000       0.053000   \n",
              "50%    2.479262e+06      16.900000       3.972000       0.079000   \n",
              "75%    3.752518e+06      17.714000       5.765000       0.190000   \n",
              "max    5.401723e+07      33.200000     939.400000       1.000000   \n",
              "\n",
              "       diameter_sigma         epoch      epoch_mjd     epoch_cal  \\\n",
              "count   136081.000000  9.585240e+05  958524.000000  9.585240e+05   \n",
              "mean         0.479184  2.458869e+06   58868.781950  2.019693e+07   \n",
              "std          0.782895  7.016716e+02     701.671573  1.930354e+04   \n",
              "min          0.000500  2.425052e+06   25051.000000  1.927062e+07   \n",
              "25%          0.180000  2.459000e+06   59000.000000  2.020053e+07   \n",
              "50%          0.332000  2.459000e+06   59000.000000  2.020053e+07   \n",
              "75%          0.620000  2.459000e+06   59000.000000  2.020053e+07   \n",
              "max        140.000000  2.459000e+06   59000.000000  2.020053e+07   \n",
              "\n",
              "                   e              a  ...       sigma_q       sigma_i  \\\n",
              "count  958524.000000  958524.000000  ...  9.386020e+05  9.386020e+05   \n",
              "mean        0.156116       2.902143  ...  1.982929e+01  1.168449e+00   \n",
              "std         0.092643      39.719503  ...  2.903785e+03  1.282231e+02   \n",
              "min         0.000000  -14702.447872  ...  1.956900e-11  4.608900e-09   \n",
              "25%         0.092193       2.387835  ...  1.462000e-07  6.095900e-06   \n",
              "50%         0.145002       2.646969  ...  2.271900e-07  8.688800e-06   \n",
              "75%         0.200650       3.001932  ...  6.583200e-07  1.591500e-05   \n",
              "max         1.855356   33488.895955  ...  1.015000e+06  5.533000e+04   \n",
              "\n",
              "           sigma_om       sigma_w      sigma_ma      sigma_ad       sigma_n  \\\n",
              "count  9.386020e+05  9.386020e+05  9.386020e+05  9.385980e+05  9.386020e+05   \n",
              "mean   5.310234e+00  1.370062e+06  1.369977e+06  2.131453e+01  5.060221e-02   \n",
              "std    1.333381e+03  9.158996e+08  9.158991e+08  7.197034e+03  9.814953e+00   \n",
              "min    6.168800e-08  6.624800e-08  7.820700e-09  1.111300e-11  1.196500e-12   \n",
              "25%    3.619400e-05  5.755000e-05  2.573700e-05  2.340900e-08  2.768800e-09   \n",
              "50%    6.642550e-05  1.047100e-04  4.900100e-05  4.359000e-08  4.638000e-09   \n",
              "75%    1.609775e-04  3.114400e-04  1.718900e-04  1.196600e-07  1.124000e-08   \n",
              "max    1.199100e+06  8.845100e+11  8.845100e+11  5.509700e+06  7.698800e+03   \n",
              "\n",
              "           sigma_tp     sigma_per            rms  \n",
              "count  9.386020e+05  9.385980e+05  958522.000000  \n",
              "mean   4.312780e+08  8.525815e+04       0.561153  \n",
              "std    2.953046e+11  2.767681e+07       2.745700  \n",
              "min    3.782900e-08  9.415900e-09       0.000000  \n",
              "25%    1.110900e-04  1.794500e-05       0.518040  \n",
              "50%    2.230800e-04  3.501700e-05       0.566280  \n",
              "75%    8.139600e-04  9.775475e-05       0.613927  \n",
              "max    2.853100e+14  1.910700e+10    2686.600000  \n",
              "\n",
              "[8 rows x 35 columns]"
            ],
            "text/html": [
              "\n",
              "  <div id=\"df-8d11ce28-6f1c-4888-942e-e951b29f745c\">\n",
              "    <div class=\"colab-df-container\">\n",
              "      <div>\n",
              "<style scoped>\n",
              "    .dataframe tbody tr th:only-of-type {\n",
              "        vertical-align: middle;\n",
              "    }\n",
              "\n",
              "    .dataframe tbody tr th {\n",
              "        vertical-align: top;\n",
              "    }\n",
              "\n",
              "    .dataframe thead th {\n",
              "        text-align: right;\n",
              "    }\n",
              "</style>\n",
              "<table border=\"1\" class=\"dataframe\">\n",
              "  <thead>\n",
              "    <tr style=\"text-align: right;\">\n",
              "      <th></th>\n",
              "      <th>spkid</th>\n",
              "      <th>H</th>\n",
              "      <th>diameter</th>\n",
              "      <th>albedo</th>\n",
              "      <th>diameter_sigma</th>\n",
              "      <th>epoch</th>\n",
              "      <th>epoch_mjd</th>\n",
              "      <th>epoch_cal</th>\n",
              "      <th>e</th>\n",
              "      <th>a</th>\n",
              "      <th>...</th>\n",
              "      <th>sigma_q</th>\n",
              "      <th>sigma_i</th>\n",
              "      <th>sigma_om</th>\n",
              "      <th>sigma_w</th>\n",
              "      <th>sigma_ma</th>\n",
              "      <th>sigma_ad</th>\n",
              "      <th>sigma_n</th>\n",
              "      <th>sigma_tp</th>\n",
              "      <th>sigma_per</th>\n",
              "      <th>rms</th>\n",
              "    </tr>\n",
              "  </thead>\n",
              "  <tbody>\n",
              "    <tr>\n",
              "      <th>count</th>\n",
              "      <td>9.585240e+05</td>\n",
              "      <td>952261.000000</td>\n",
              "      <td>136209.000000</td>\n",
              "      <td>135103.000000</td>\n",
              "      <td>136081.000000</td>\n",
              "      <td>9.585240e+05</td>\n",
              "      <td>958524.000000</td>\n",
              "      <td>9.585240e+05</td>\n",
              "      <td>958524.000000</td>\n",
              "      <td>958524.000000</td>\n",
              "      <td>...</td>\n",
              "      <td>9.386020e+05</td>\n",
              "      <td>9.386020e+05</td>\n",
              "      <td>9.386020e+05</td>\n",
              "      <td>9.386020e+05</td>\n",
              "      <td>9.386020e+05</td>\n",
              "      <td>9.385980e+05</td>\n",
              "      <td>9.386020e+05</td>\n",
              "      <td>9.386020e+05</td>\n",
              "      <td>9.385980e+05</td>\n",
              "      <td>958522.000000</td>\n",
              "    </tr>\n",
              "    <tr>\n",
              "      <th>mean</th>\n",
              "      <td>3.810114e+06</td>\n",
              "      <td>16.906411</td>\n",
              "      <td>5.506429</td>\n",
              "      <td>0.130627</td>\n",
              "      <td>0.479184</td>\n",
              "      <td>2.458869e+06</td>\n",
              "      <td>58868.781950</td>\n",
              "      <td>2.019693e+07</td>\n",
              "      <td>0.156116</td>\n",
              "      <td>2.902143</td>\n",
              "      <td>...</td>\n",
              "      <td>1.982929e+01</td>\n",
              "      <td>1.168449e+00</td>\n",
              "      <td>5.310234e+00</td>\n",
              "      <td>1.370062e+06</td>\n",
              "      <td>1.369977e+06</td>\n",
              "      <td>2.131453e+01</td>\n",
              "      <td>5.060221e-02</td>\n",
              "      <td>4.312780e+08</td>\n",
              "      <td>8.525815e+04</td>\n",
              "      <td>0.561153</td>\n",
              "    </tr>\n",
              "    <tr>\n",
              "      <th>std</th>\n",
              "      <td>6.831541e+06</td>\n",
              "      <td>1.790405</td>\n",
              "      <td>9.425164</td>\n",
              "      <td>0.110323</td>\n",
              "      <td>0.782895</td>\n",
              "      <td>7.016716e+02</td>\n",
              "      <td>701.671573</td>\n",
              "      <td>1.930354e+04</td>\n",
              "      <td>0.092643</td>\n",
              "      <td>39.719503</td>\n",
              "      <td>...</td>\n",
              "      <td>2.903785e+03</td>\n",
              "      <td>1.282231e+02</td>\n",
              "      <td>1.333381e+03</td>\n",
              "      <td>9.158996e+08</td>\n",
              "      <td>9.158991e+08</td>\n",
              "      <td>7.197034e+03</td>\n",
              "      <td>9.814953e+00</td>\n",
              "      <td>2.953046e+11</td>\n",
              "      <td>2.767681e+07</td>\n",
              "      <td>2.745700</td>\n",
              "    </tr>\n",
              "    <tr>\n",
              "      <th>min</th>\n",
              "      <td>2.000001e+06</td>\n",
              "      <td>-1.100000</td>\n",
              "      <td>0.002500</td>\n",
              "      <td>0.001000</td>\n",
              "      <td>0.000500</td>\n",
              "      <td>2.425052e+06</td>\n",
              "      <td>25051.000000</td>\n",
              "      <td>1.927062e+07</td>\n",
              "      <td>0.000000</td>\n",
              "      <td>-14702.447872</td>\n",
              "      <td>...</td>\n",
              "      <td>1.956900e-11</td>\n",
              "      <td>4.608900e-09</td>\n",
              "      <td>6.168800e-08</td>\n",
              "      <td>6.624800e-08</td>\n",
              "      <td>7.820700e-09</td>\n",
              "      <td>1.111300e-11</td>\n",
              "      <td>1.196500e-12</td>\n",
              "      <td>3.782900e-08</td>\n",
              "      <td>9.415900e-09</td>\n",
              "      <td>0.000000</td>\n",
              "    </tr>\n",
              "    <tr>\n",
              "      <th>25%</th>\n",
              "      <td>2.239632e+06</td>\n",
              "      <td>16.100000</td>\n",
              "      <td>2.780000</td>\n",
              "      <td>0.053000</td>\n",
              "      <td>0.180000</td>\n",
              "      <td>2.459000e+06</td>\n",
              "      <td>59000.000000</td>\n",
              "      <td>2.020053e+07</td>\n",
              "      <td>0.092193</td>\n",
              "      <td>2.387835</td>\n",
              "      <td>...</td>\n",
              "      <td>1.462000e-07</td>\n",
              "      <td>6.095900e-06</td>\n",
              "      <td>3.619400e-05</td>\n",
              "      <td>5.755000e-05</td>\n",
              "      <td>2.573700e-05</td>\n",
              "      <td>2.340900e-08</td>\n",
              "      <td>2.768800e-09</td>\n",
              "      <td>1.110900e-04</td>\n",
              "      <td>1.794500e-05</td>\n",
              "      <td>0.518040</td>\n",
              "    </tr>\n",
              "    <tr>\n",
              "      <th>50%</th>\n",
              "      <td>2.479262e+06</td>\n",
              "      <td>16.900000</td>\n",
              "      <td>3.972000</td>\n",
              "      <td>0.079000</td>\n",
              "      <td>0.332000</td>\n",
              "      <td>2.459000e+06</td>\n",
              "      <td>59000.000000</td>\n",
              "      <td>2.020053e+07</td>\n",
              "      <td>0.145002</td>\n",
              "      <td>2.646969</td>\n",
              "      <td>...</td>\n",
              "      <td>2.271900e-07</td>\n",
              "      <td>8.688800e-06</td>\n",
              "      <td>6.642550e-05</td>\n",
              "      <td>1.047100e-04</td>\n",
              "      <td>4.900100e-05</td>\n",
              "      <td>4.359000e-08</td>\n",
              "      <td>4.638000e-09</td>\n",
              "      <td>2.230800e-04</td>\n",
              "      <td>3.501700e-05</td>\n",
              "      <td>0.566280</td>\n",
              "    </tr>\n",
              "    <tr>\n",
              "      <th>75%</th>\n",
              "      <td>3.752518e+06</td>\n",
              "      <td>17.714000</td>\n",
              "      <td>5.765000</td>\n",
              "      <td>0.190000</td>\n",
              "      <td>0.620000</td>\n",
              "      <td>2.459000e+06</td>\n",
              "      <td>59000.000000</td>\n",
              "      <td>2.020053e+07</td>\n",
              "      <td>0.200650</td>\n",
              "      <td>3.001932</td>\n",
              "      <td>...</td>\n",
              "      <td>6.583200e-07</td>\n",
              "      <td>1.591500e-05</td>\n",
              "      <td>1.609775e-04</td>\n",
              "      <td>3.114400e-04</td>\n",
              "      <td>1.718900e-04</td>\n",
              "      <td>1.196600e-07</td>\n",
              "      <td>1.124000e-08</td>\n",
              "      <td>8.139600e-04</td>\n",
              "      <td>9.775475e-05</td>\n",
              "      <td>0.613927</td>\n",
              "    </tr>\n",
              "    <tr>\n",
              "      <th>max</th>\n",
              "      <td>5.401723e+07</td>\n",
              "      <td>33.200000</td>\n",
              "      <td>939.400000</td>\n",
              "      <td>1.000000</td>\n",
              "      <td>140.000000</td>\n",
              "      <td>2.459000e+06</td>\n",
              "      <td>59000.000000</td>\n",
              "      <td>2.020053e+07</td>\n",
              "      <td>1.855356</td>\n",
              "      <td>33488.895955</td>\n",
              "      <td>...</td>\n",
              "      <td>1.015000e+06</td>\n",
              "      <td>5.533000e+04</td>\n",
              "      <td>1.199100e+06</td>\n",
              "      <td>8.845100e+11</td>\n",
              "      <td>8.845100e+11</td>\n",
              "      <td>5.509700e+06</td>\n",
              "      <td>7.698800e+03</td>\n",
              "      <td>2.853100e+14</td>\n",
              "      <td>1.910700e+10</td>\n",
              "      <td>2686.600000</td>\n",
              "    </tr>\n",
              "  </tbody>\n",
              "</table>\n",
              "<p>8 rows × 35 columns</p>\n",
              "</div>\n",
              "      <button class=\"colab-df-convert\" onclick=\"convertToInteractive('df-8d11ce28-6f1c-4888-942e-e951b29f745c')\"\n",
              "              title=\"Convert this dataframe to an interactive table.\"\n",
              "              style=\"display:none;\">\n",
              "        \n",
              "  <svg xmlns=\"http://www.w3.org/2000/svg\" height=\"24px\"viewBox=\"0 0 24 24\"\n",
              "       width=\"24px\">\n",
              "    <path d=\"M0 0h24v24H0V0z\" fill=\"none\"/>\n",
              "    <path d=\"M18.56 5.44l.94 2.06.94-2.06 2.06-.94-2.06-.94-.94-2.06-.94 2.06-2.06.94zm-11 1L8.5 8.5l.94-2.06 2.06-.94-2.06-.94L8.5 2.5l-.94 2.06-2.06.94zm10 10l.94 2.06.94-2.06 2.06-.94-2.06-.94-.94-2.06-.94 2.06-2.06.94z\"/><path d=\"M17.41 7.96l-1.37-1.37c-.4-.4-.92-.59-1.43-.59-.52 0-1.04.2-1.43.59L10.3 9.45l-7.72 7.72c-.78.78-.78 2.05 0 2.83L4 21.41c.39.39.9.59 1.41.59.51 0 1.02-.2 1.41-.59l7.78-7.78 2.81-2.81c.8-.78.8-2.07 0-2.86zM5.41 20L4 18.59l7.72-7.72 1.47 1.35L5.41 20z\"/>\n",
              "  </svg>\n",
              "      </button>\n",
              "      \n",
              "  <style>\n",
              "    .colab-df-container {\n",
              "      display:flex;\n",
              "      flex-wrap:wrap;\n",
              "      gap: 12px;\n",
              "    }\n",
              "\n",
              "    .colab-df-convert {\n",
              "      background-color: #E8F0FE;\n",
              "      border: none;\n",
              "      border-radius: 50%;\n",
              "      cursor: pointer;\n",
              "      display: none;\n",
              "      fill: #1967D2;\n",
              "      height: 32px;\n",
              "      padding: 0 0 0 0;\n",
              "      width: 32px;\n",
              "    }\n",
              "\n",
              "    .colab-df-convert:hover {\n",
              "      background-color: #E2EBFA;\n",
              "      box-shadow: 0px 1px 2px rgba(60, 64, 67, 0.3), 0px 1px 3px 1px rgba(60, 64, 67, 0.15);\n",
              "      fill: #174EA6;\n",
              "    }\n",
              "\n",
              "    [theme=dark] .colab-df-convert {\n",
              "      background-color: #3B4455;\n",
              "      fill: #D2E3FC;\n",
              "    }\n",
              "\n",
              "    [theme=dark] .colab-df-convert:hover {\n",
              "      background-color: #434B5C;\n",
              "      box-shadow: 0px 1px 3px 1px rgba(0, 0, 0, 0.15);\n",
              "      filter: drop-shadow(0px 1px 2px rgba(0, 0, 0, 0.3));\n",
              "      fill: #FFFFFF;\n",
              "    }\n",
              "  </style>\n",
              "\n",
              "      <script>\n",
              "        const buttonEl =\n",
              "          document.querySelector('#df-8d11ce28-6f1c-4888-942e-e951b29f745c button.colab-df-convert');\n",
              "        buttonEl.style.display =\n",
              "          google.colab.kernel.accessAllowed ? 'block' : 'none';\n",
              "\n",
              "        async function convertToInteractive(key) {\n",
              "          const element = document.querySelector('#df-8d11ce28-6f1c-4888-942e-e951b29f745c');\n",
              "          const dataTable =\n",
              "            await google.colab.kernel.invokeFunction('convertToInteractive',\n",
              "                                                     [key], {});\n",
              "          if (!dataTable) return;\n",
              "\n",
              "          const docLinkHtml = 'Like what you see? Visit the ' +\n",
              "            '<a target=\"_blank\" href=https://colab.research.google.com/notebooks/data_table.ipynb>data table notebook</a>'\n",
              "            + ' to learn more about interactive tables.';\n",
              "          element.innerHTML = '';\n",
              "          dataTable['output_type'] = 'display_data';\n",
              "          await google.colab.output.renderOutput(dataTable, element);\n",
              "          const docLink = document.createElement('div');\n",
              "          docLink.innerHTML = docLinkHtml;\n",
              "          element.appendChild(docLink);\n",
              "        }\n",
              "      </script>\n",
              "    </div>\n",
              "  </div>\n",
              "  "
            ]
          },
          "metadata": {},
          "execution_count": 19
        }
      ],
      "source": [
        "asteroid_df.describe() #lets us compute the mean, sum, range and other interesting statistics for numeric columns "
      ]
    },
    {
      "cell_type": "code",
      "execution_count": 20,
      "metadata": {
        "id": "nn8-0IW3X5g1",
        "colab": {
          "base_uri": "https://localhost:8080/"
        },
        "outputId": "72dd496a-0075-4884-a131-11024be72af0"
      },
      "outputs": [
        {
          "output_type": "execute_result",
          "data": {
            "text/plain": [
              "<function jovian.utils.commit.commit(message=None, files=[], outputs=[], environment=None, privacy='auto', filename=None, project=None, new_project=None, git_commit=False, git_message='auto', require_write_access=False, **kwargs)>"
            ]
          },
          "metadata": {},
          "execution_count": 20
        }
      ],
      "source": [
        "jovian.commit"
      ]
    },
    {
      "cell_type": "code",
      "execution_count": 21,
      "metadata": {
        "id": "6Jwmo41RaQJu",
        "colab": {
          "base_uri": "https://localhost:8080/",
          "height": 392
        },
        "outputId": "2f493325-bd97-4f69-8fef-878d88d60b6e"
      },
      "outputs": [
        {
          "output_type": "execute_result",
          "data": {
            "text/plain": [
              "         id    SPKID       Full_Name pdes     name prefix neo pha     H  \\\n",
              "0  a0000001  2000001         1 Ceres    1    Ceres    NaN   N   N  3.40   \n",
              "1  a0000002  2000002        2 Pallas    2   Pallas    NaN   N   N  4.20   \n",
              "2  a0000003  2000003          3 Juno    3     Juno    NaN   N   N  5.33   \n",
              "3  a0000004  2000004         4 Vesta    4    Vesta    NaN   N   N  3.00   \n",
              "4  a0000005  2000005       5 Astraea    5  Astraea    NaN   N   N  6.90   \n",
              "5  a0000006  2000006          6 Hebe    6     Hebe    NaN   N   N  5.80   \n",
              "6  a0000007  2000007          7 Iris    7     Iris    NaN   N   N  5.60   \n",
              "7  a0000008  2000008         8 Flora    8    Flora    NaN   N   N  6.50   \n",
              "8  a0000009  2000009         9 Metis    9    Metis    NaN   N   N  6.30   \n",
              "9  a0000010  2000010       10 Hygiea   10   Hygiea    NaN   N   N  5.50   \n",
              "\n",
              "   diameter  ...       sigma_i      sigma_om       sigma_w      sigma_ma  \\\n",
              "0   939.400  ...  4.608900e-09  6.168800e-08  6.624800e-08  7.820700e-09   \n",
              "1   545.000  ...  3.469400e-06  6.272400e-06  9.128200e-06  8.859100e-06   \n",
              "2   246.596  ...  3.223100e-06  1.664600e-05  1.772100e-05  8.110400e-06   \n",
              "3   525.400  ...  2.170600e-07  3.880800e-07  1.789300e-07  1.206800e-06   \n",
              "4   106.699  ...  2.740800e-06  2.894900e-05  2.984200e-05  8.303800e-06   \n",
              "5   185.180  ...  2.191800e-06  1.122100e-05  1.300600e-05  7.392200e-06   \n",
              "6   199.830  ...  2.582500e-06  2.641200e-05  2.707500e-05  7.014700e-06   \n",
              "7   147.491  ...  3.240300e-06  2.432000e-05  2.664600e-05  1.209200e-05   \n",
              "8   190.000  ...  2.007400e-06  2.417000e-05  2.600800e-05  1.036600e-05   \n",
              "9   407.120  ...  2.173400e-06  2.855200e-05  3.023700e-05  1.124600e-05   \n",
              "\n",
              "       sigma_ad       sigma_n      sigma_tp     sigma_per  Classification  \\\n",
              "0  1.111300e-11  1.196500e-12  3.782900e-08  9.415900e-09             MBA   \n",
              "1  4.961300e-09  4.653600e-10  4.078700e-05  3.680700e-06             MBA   \n",
              "2  4.363900e-09  4.413400e-10  3.528800e-05  3.107200e-06             MBA   \n",
              "3  1.648600e-09  2.612500e-10  4.103700e-06  1.274900e-06             MBA   \n",
              "4  4.729000e-09  5.522700e-10  3.474300e-05  3.490500e-06             MBA   \n",
              "5  3.306700e-09  4.438800e-10  2.875400e-05  2.344500e-06             MBA   \n",
              "6  2.469500e-09  3.370100e-10  2.662700e-05  1.699400e-06             MBA   \n",
              "7  2.668100e-09  4.746200e-10  4.018700e-05  1.876500e-06             MBA   \n",
              "8  3.470200e-09  5.192700e-10  3.870700e-05  2.614600e-06             MBA   \n",
              "9  7.699800e-09  5.847400e-10  6.482900e-05  6.724400e-06             MBA   \n",
              "\n",
              "       rms  \n",
              "0  0.43301  \n",
              "1  0.35936  \n",
              "2  0.33848  \n",
              "3  0.39980  \n",
              "4  0.52191  \n",
              "5  0.41032  \n",
              "6  0.38128  \n",
              "7  0.54186  \n",
              "8  0.44895  \n",
              "9  0.53434  \n",
              "\n",
              "[10 rows x 45 columns]"
            ],
            "text/html": [
              "\n",
              "  <div id=\"df-67a5bb0e-e1f7-473e-8e01-04451fbf2670\">\n",
              "    <div class=\"colab-df-container\">\n",
              "      <div>\n",
              "<style scoped>\n",
              "    .dataframe tbody tr th:only-of-type {\n",
              "        vertical-align: middle;\n",
              "    }\n",
              "\n",
              "    .dataframe tbody tr th {\n",
              "        vertical-align: top;\n",
              "    }\n",
              "\n",
              "    .dataframe thead th {\n",
              "        text-align: right;\n",
              "    }\n",
              "</style>\n",
              "<table border=\"1\" class=\"dataframe\">\n",
              "  <thead>\n",
              "    <tr style=\"text-align: right;\">\n",
              "      <th></th>\n",
              "      <th>id</th>\n",
              "      <th>SPKID</th>\n",
              "      <th>Full_Name</th>\n",
              "      <th>pdes</th>\n",
              "      <th>name</th>\n",
              "      <th>prefix</th>\n",
              "      <th>neo</th>\n",
              "      <th>pha</th>\n",
              "      <th>H</th>\n",
              "      <th>diameter</th>\n",
              "      <th>...</th>\n",
              "      <th>sigma_i</th>\n",
              "      <th>sigma_om</th>\n",
              "      <th>sigma_w</th>\n",
              "      <th>sigma_ma</th>\n",
              "      <th>sigma_ad</th>\n",
              "      <th>sigma_n</th>\n",
              "      <th>sigma_tp</th>\n",
              "      <th>sigma_per</th>\n",
              "      <th>Classification</th>\n",
              "      <th>rms</th>\n",
              "    </tr>\n",
              "  </thead>\n",
              "  <tbody>\n",
              "    <tr>\n",
              "      <th>0</th>\n",
              "      <td>a0000001</td>\n",
              "      <td>2000001</td>\n",
              "      <td>1 Ceres</td>\n",
              "      <td>1</td>\n",
              "      <td>Ceres</td>\n",
              "      <td>NaN</td>\n",
              "      <td>N</td>\n",
              "      <td>N</td>\n",
              "      <td>3.40</td>\n",
              "      <td>939.400</td>\n",
              "      <td>...</td>\n",
              "      <td>4.608900e-09</td>\n",
              "      <td>6.168800e-08</td>\n",
              "      <td>6.624800e-08</td>\n",
              "      <td>7.820700e-09</td>\n",
              "      <td>1.111300e-11</td>\n",
              "      <td>1.196500e-12</td>\n",
              "      <td>3.782900e-08</td>\n",
              "      <td>9.415900e-09</td>\n",
              "      <td>MBA</td>\n",
              "      <td>0.43301</td>\n",
              "    </tr>\n",
              "    <tr>\n",
              "      <th>1</th>\n",
              "      <td>a0000002</td>\n",
              "      <td>2000002</td>\n",
              "      <td>2 Pallas</td>\n",
              "      <td>2</td>\n",
              "      <td>Pallas</td>\n",
              "      <td>NaN</td>\n",
              "      <td>N</td>\n",
              "      <td>N</td>\n",
              "      <td>4.20</td>\n",
              "      <td>545.000</td>\n",
              "      <td>...</td>\n",
              "      <td>3.469400e-06</td>\n",
              "      <td>6.272400e-06</td>\n",
              "      <td>9.128200e-06</td>\n",
              "      <td>8.859100e-06</td>\n",
              "      <td>4.961300e-09</td>\n",
              "      <td>4.653600e-10</td>\n",
              "      <td>4.078700e-05</td>\n",
              "      <td>3.680700e-06</td>\n",
              "      <td>MBA</td>\n",
              "      <td>0.35936</td>\n",
              "    </tr>\n",
              "    <tr>\n",
              "      <th>2</th>\n",
              "      <td>a0000003</td>\n",
              "      <td>2000003</td>\n",
              "      <td>3 Juno</td>\n",
              "      <td>3</td>\n",
              "      <td>Juno</td>\n",
              "      <td>NaN</td>\n",
              "      <td>N</td>\n",
              "      <td>N</td>\n",
              "      <td>5.33</td>\n",
              "      <td>246.596</td>\n",
              "      <td>...</td>\n",
              "      <td>3.223100e-06</td>\n",
              "      <td>1.664600e-05</td>\n",
              "      <td>1.772100e-05</td>\n",
              "      <td>8.110400e-06</td>\n",
              "      <td>4.363900e-09</td>\n",
              "      <td>4.413400e-10</td>\n",
              "      <td>3.528800e-05</td>\n",
              "      <td>3.107200e-06</td>\n",
              "      <td>MBA</td>\n",
              "      <td>0.33848</td>\n",
              "    </tr>\n",
              "    <tr>\n",
              "      <th>3</th>\n",
              "      <td>a0000004</td>\n",
              "      <td>2000004</td>\n",
              "      <td>4 Vesta</td>\n",
              "      <td>4</td>\n",
              "      <td>Vesta</td>\n",
              "      <td>NaN</td>\n",
              "      <td>N</td>\n",
              "      <td>N</td>\n",
              "      <td>3.00</td>\n",
              "      <td>525.400</td>\n",
              "      <td>...</td>\n",
              "      <td>2.170600e-07</td>\n",
              "      <td>3.880800e-07</td>\n",
              "      <td>1.789300e-07</td>\n",
              "      <td>1.206800e-06</td>\n",
              "      <td>1.648600e-09</td>\n",
              "      <td>2.612500e-10</td>\n",
              "      <td>4.103700e-06</td>\n",
              "      <td>1.274900e-06</td>\n",
              "      <td>MBA</td>\n",
              "      <td>0.39980</td>\n",
              "    </tr>\n",
              "    <tr>\n",
              "      <th>4</th>\n",
              "      <td>a0000005</td>\n",
              "      <td>2000005</td>\n",
              "      <td>5 Astraea</td>\n",
              "      <td>5</td>\n",
              "      <td>Astraea</td>\n",
              "      <td>NaN</td>\n",
              "      <td>N</td>\n",
              "      <td>N</td>\n",
              "      <td>6.90</td>\n",
              "      <td>106.699</td>\n",
              "      <td>...</td>\n",
              "      <td>2.740800e-06</td>\n",
              "      <td>2.894900e-05</td>\n",
              "      <td>2.984200e-05</td>\n",
              "      <td>8.303800e-06</td>\n",
              "      <td>4.729000e-09</td>\n",
              "      <td>5.522700e-10</td>\n",
              "      <td>3.474300e-05</td>\n",
              "      <td>3.490500e-06</td>\n",
              "      <td>MBA</td>\n",
              "      <td>0.52191</td>\n",
              "    </tr>\n",
              "    <tr>\n",
              "      <th>5</th>\n",
              "      <td>a0000006</td>\n",
              "      <td>2000006</td>\n",
              "      <td>6 Hebe</td>\n",
              "      <td>6</td>\n",
              "      <td>Hebe</td>\n",
              "      <td>NaN</td>\n",
              "      <td>N</td>\n",
              "      <td>N</td>\n",
              "      <td>5.80</td>\n",
              "      <td>185.180</td>\n",
              "      <td>...</td>\n",
              "      <td>2.191800e-06</td>\n",
              "      <td>1.122100e-05</td>\n",
              "      <td>1.300600e-05</td>\n",
              "      <td>7.392200e-06</td>\n",
              "      <td>3.306700e-09</td>\n",
              "      <td>4.438800e-10</td>\n",
              "      <td>2.875400e-05</td>\n",
              "      <td>2.344500e-06</td>\n",
              "      <td>MBA</td>\n",
              "      <td>0.41032</td>\n",
              "    </tr>\n",
              "    <tr>\n",
              "      <th>6</th>\n",
              "      <td>a0000007</td>\n",
              "      <td>2000007</td>\n",
              "      <td>7 Iris</td>\n",
              "      <td>7</td>\n",
              "      <td>Iris</td>\n",
              "      <td>NaN</td>\n",
              "      <td>N</td>\n",
              "      <td>N</td>\n",
              "      <td>5.60</td>\n",
              "      <td>199.830</td>\n",
              "      <td>...</td>\n",
              "      <td>2.582500e-06</td>\n",
              "      <td>2.641200e-05</td>\n",
              "      <td>2.707500e-05</td>\n",
              "      <td>7.014700e-06</td>\n",
              "      <td>2.469500e-09</td>\n",
              "      <td>3.370100e-10</td>\n",
              "      <td>2.662700e-05</td>\n",
              "      <td>1.699400e-06</td>\n",
              "      <td>MBA</td>\n",
              "      <td>0.38128</td>\n",
              "    </tr>\n",
              "    <tr>\n",
              "      <th>7</th>\n",
              "      <td>a0000008</td>\n",
              "      <td>2000008</td>\n",
              "      <td>8 Flora</td>\n",
              "      <td>8</td>\n",
              "      <td>Flora</td>\n",
              "      <td>NaN</td>\n",
              "      <td>N</td>\n",
              "      <td>N</td>\n",
              "      <td>6.50</td>\n",
              "      <td>147.491</td>\n",
              "      <td>...</td>\n",
              "      <td>3.240300e-06</td>\n",
              "      <td>2.432000e-05</td>\n",
              "      <td>2.664600e-05</td>\n",
              "      <td>1.209200e-05</td>\n",
              "      <td>2.668100e-09</td>\n",
              "      <td>4.746200e-10</td>\n",
              "      <td>4.018700e-05</td>\n",
              "      <td>1.876500e-06</td>\n",
              "      <td>MBA</td>\n",
              "      <td>0.54186</td>\n",
              "    </tr>\n",
              "    <tr>\n",
              "      <th>8</th>\n",
              "      <td>a0000009</td>\n",
              "      <td>2000009</td>\n",
              "      <td>9 Metis</td>\n",
              "      <td>9</td>\n",
              "      <td>Metis</td>\n",
              "      <td>NaN</td>\n",
              "      <td>N</td>\n",
              "      <td>N</td>\n",
              "      <td>6.30</td>\n",
              "      <td>190.000</td>\n",
              "      <td>...</td>\n",
              "      <td>2.007400e-06</td>\n",
              "      <td>2.417000e-05</td>\n",
              "      <td>2.600800e-05</td>\n",
              "      <td>1.036600e-05</td>\n",
              "      <td>3.470200e-09</td>\n",
              "      <td>5.192700e-10</td>\n",
              "      <td>3.870700e-05</td>\n",
              "      <td>2.614600e-06</td>\n",
              "      <td>MBA</td>\n",
              "      <td>0.44895</td>\n",
              "    </tr>\n",
              "    <tr>\n",
              "      <th>9</th>\n",
              "      <td>a0000010</td>\n",
              "      <td>2000010</td>\n",
              "      <td>10 Hygiea</td>\n",
              "      <td>10</td>\n",
              "      <td>Hygiea</td>\n",
              "      <td>NaN</td>\n",
              "      <td>N</td>\n",
              "      <td>N</td>\n",
              "      <td>5.50</td>\n",
              "      <td>407.120</td>\n",
              "      <td>...</td>\n",
              "      <td>2.173400e-06</td>\n",
              "      <td>2.855200e-05</td>\n",
              "      <td>3.023700e-05</td>\n",
              "      <td>1.124600e-05</td>\n",
              "      <td>7.699800e-09</td>\n",
              "      <td>5.847400e-10</td>\n",
              "      <td>6.482900e-05</td>\n",
              "      <td>6.724400e-06</td>\n",
              "      <td>MBA</td>\n",
              "      <td>0.53434</td>\n",
              "    </tr>\n",
              "  </tbody>\n",
              "</table>\n",
              "<p>10 rows × 45 columns</p>\n",
              "</div>\n",
              "      <button class=\"colab-df-convert\" onclick=\"convertToInteractive('df-67a5bb0e-e1f7-473e-8e01-04451fbf2670')\"\n",
              "              title=\"Convert this dataframe to an interactive table.\"\n",
              "              style=\"display:none;\">\n",
              "        \n",
              "  <svg xmlns=\"http://www.w3.org/2000/svg\" height=\"24px\"viewBox=\"0 0 24 24\"\n",
              "       width=\"24px\">\n",
              "    <path d=\"M0 0h24v24H0V0z\" fill=\"none\"/>\n",
              "    <path d=\"M18.56 5.44l.94 2.06.94-2.06 2.06-.94-2.06-.94-.94-2.06-.94 2.06-2.06.94zm-11 1L8.5 8.5l.94-2.06 2.06-.94-2.06-.94L8.5 2.5l-.94 2.06-2.06.94zm10 10l.94 2.06.94-2.06 2.06-.94-2.06-.94-.94-2.06-.94 2.06-2.06.94z\"/><path d=\"M17.41 7.96l-1.37-1.37c-.4-.4-.92-.59-1.43-.59-.52 0-1.04.2-1.43.59L10.3 9.45l-7.72 7.72c-.78.78-.78 2.05 0 2.83L4 21.41c.39.39.9.59 1.41.59.51 0 1.02-.2 1.41-.59l7.78-7.78 2.81-2.81c.8-.78.8-2.07 0-2.86zM5.41 20L4 18.59l7.72-7.72 1.47 1.35L5.41 20z\"/>\n",
              "  </svg>\n",
              "      </button>\n",
              "      \n",
              "  <style>\n",
              "    .colab-df-container {\n",
              "      display:flex;\n",
              "      flex-wrap:wrap;\n",
              "      gap: 12px;\n",
              "    }\n",
              "\n",
              "    .colab-df-convert {\n",
              "      background-color: #E8F0FE;\n",
              "      border: none;\n",
              "      border-radius: 50%;\n",
              "      cursor: pointer;\n",
              "      display: none;\n",
              "      fill: #1967D2;\n",
              "      height: 32px;\n",
              "      padding: 0 0 0 0;\n",
              "      width: 32px;\n",
              "    }\n",
              "\n",
              "    .colab-df-convert:hover {\n",
              "      background-color: #E2EBFA;\n",
              "      box-shadow: 0px 1px 2px rgba(60, 64, 67, 0.3), 0px 1px 3px 1px rgba(60, 64, 67, 0.15);\n",
              "      fill: #174EA6;\n",
              "    }\n",
              "\n",
              "    [theme=dark] .colab-df-convert {\n",
              "      background-color: #3B4455;\n",
              "      fill: #D2E3FC;\n",
              "    }\n",
              "\n",
              "    [theme=dark] .colab-df-convert:hover {\n",
              "      background-color: #434B5C;\n",
              "      box-shadow: 0px 1px 3px 1px rgba(0, 0, 0, 0.15);\n",
              "      filter: drop-shadow(0px 1px 2px rgba(0, 0, 0, 0.3));\n",
              "      fill: #FFFFFF;\n",
              "    }\n",
              "  </style>\n",
              "\n",
              "      <script>\n",
              "        const buttonEl =\n",
              "          document.querySelector('#df-67a5bb0e-e1f7-473e-8e01-04451fbf2670 button.colab-df-convert');\n",
              "        buttonEl.style.display =\n",
              "          google.colab.kernel.accessAllowed ? 'block' : 'none';\n",
              "\n",
              "        async function convertToInteractive(key) {\n",
              "          const element = document.querySelector('#df-67a5bb0e-e1f7-473e-8e01-04451fbf2670');\n",
              "          const dataTable =\n",
              "            await google.colab.kernel.invokeFunction('convertToInteractive',\n",
              "                                                     [key], {});\n",
              "          if (!dataTable) return;\n",
              "\n",
              "          const docLinkHtml = 'Like what you see? Visit the ' +\n",
              "            '<a target=\"_blank\" href=https://colab.research.google.com/notebooks/data_table.ipynb>data table notebook</a>'\n",
              "            + ' to learn more about interactive tables.';\n",
              "          element.innerHTML = '';\n",
              "          dataTable['output_type'] = 'display_data';\n",
              "          await google.colab.output.renderOutput(dataTable, element);\n",
              "          const docLink = document.createElement('div');\n",
              "          docLink.innerHTML = docLinkHtml;\n",
              "          element.appendChild(docLink);\n",
              "        }\n",
              "      </script>\n",
              "    </div>\n",
              "  </div>\n",
              "  "
            ]
          },
          "metadata": {},
          "execution_count": 21
        }
      ],
      "source": [
        "asteroid_df = asteroid_df.rename(columns = {\n",
        "    'e':'Eccentricity',\n",
        "    'a':'Semi_Major_Axis',\n",
        "    'q':'Perihelion_Distance',\n",
        "    'i':'Inclination',\n",
        "    'M':'Mean_Anomaly',\n",
        "    'tp': 'Time_of_Perihelion_Passage',\n",
        "    'n':'Mean_Motion',\n",
        "    'Q':'Aphelion_Distance',\n",
        "    'full_name':'Full_Name',\n",
        "    'spkid':'SPKID',\n",
        "    'class':'Classification',\n",
        "    'per':'Period_Days',\n",
        "    'per_y':'Period_Years'\n",
        "}).copy()\n",
        "asteroid_df.head(10)"
      ]
    },
    {
      "cell_type": "markdown",
      "metadata": {
        "id": "SN5U9o4us8Q_"
      },
      "source": [
        "Nearly all columns have no missing numbers. The same number of rows appear to have missing numbers in the \"sigma\" columns. Despite having 97% missing values, the \"name\" column is combined with \"pdes\" to form a complete identity.\n",
        "\n",
        "85% of the numbers in the columns \"diameter,\" \"albedo,\" and \"diameter sigma\" are missing. These columns can be eliminated because these numbers cannot be calculated or measured.\n",
        "\n",
        "For the same rows where 'pha' is lacking data, columns 'pha','moid', and those with the'sigma' prefix have missing values. We can continue to remove these records since they make up only 2% of the data.\n",
        "\n"
      ]
    },
    {
      "cell_type": "code",
      "execution_count": 22,
      "metadata": {
        "id": "qAn9W7xJs0Dg"
      },
      "outputs": [],
      "source": [
        "asteroid_df =asteroid_df[asteroid_df['pha'].notna()]\n"
      ]
    },
    {
      "cell_type": "markdown",
      "source": [
        "Column 'H', which represents absolute magnitude, is missing a few numbers. Albedo and diameter are two factors that can be used to calculate this, but since they are no longer columns, we can eliminate the rows that lack numbers for \"H\"."
      ],
      "metadata": {
        "id": "2SXqRv3s3scR"
      }
    },
    {
      "cell_type": "code",
      "execution_count": 23,
      "metadata": {
        "id": "CItWmWbVs0Ci"
      },
      "outputs": [],
      "source": [
        "asteroid_df = asteroid_df[asteroid_df['H'].notna()]"
      ]
    },
    {
      "cell_type": "markdown",
      "source": [
        "Since'sigma ad' appears to have the most missing values, remove the remainder missing row values from this column."
      ],
      "metadata": {
        "id": "EQCUHWMw4OXQ"
      }
    },
    {
      "cell_type": "code",
      "source": [
        "asteroid_df = asteroid_df[asteroid_df['sigma_ad'].notna()]\n",
        "asteroid_df = asteroid_df[asteroid_df['ma'].notna()] # Remove row with the one missing value for 'ma'\n"
      ],
      "metadata": {
        "id": "LwRVNKxj4RJg"
      },
      "execution_count": 24,
      "outputs": []
    },
    {
      "cell_type": "markdown",
      "source": [
        "To facilitate analysis and visualisation, some column types will need to be modified."
      ],
      "metadata": {
        "id": "WA3gh6r-vh3h"
      }
    },
    {
      "cell_type": "code",
      "source": [
        "asteroid_df['neo'] = asteroid_df['neo'].astype('category')\n",
        "asteroid_df['pha'] = asteroid_df['pha'].astype('category')\n",
        "asteroid_df['Classification'] = asteroid_df['Classification'].astype('category')\n"
      ],
      "metadata": {
        "id": "B6NkHcN44RIK"
      },
      "execution_count": 25,
      "outputs": []
    },
    {
      "cell_type": "markdown",
      "metadata": {
        "id": "41hyQtmydfXn"
      },
      "source": [
        "#Data Visualisation"
      ]
    },
    {
      "cell_type": "markdown",
      "metadata": {
        "id": "Yc2e0oZWdt9P"
      },
      "source": []
    },
    {
      "cell_type": "code",
      "execution_count": 26,
      "metadata": {
        "id": "_CluVIZtdz6w",
        "colab": {
          "base_uri": "https://localhost:8080/"
        },
        "outputId": "150a7db2-3f86-44ba-9c44-3576556ce932"
      },
      "outputs": [
        {
          "output_type": "execute_result",
          "data": {
            "text/plain": [
              "<function jovian.utils.commit.commit(message=None, files=[], outputs=[], environment=None, privacy='auto', filename=None, project=None, new_project=None, git_commit=False, git_message='auto', require_write_access=False, **kwargs)>"
            ]
          },
          "metadata": {},
          "execution_count": 26
        }
      ],
      "source": [
        "jovian.commit"
      ]
    },
    {
      "cell_type": "markdown",
      "source": [
        "**What percent of asteroids are near earth objects?**"
      ],
      "metadata": {
        "id": "k-lhq8WZ1oft"
      }
    },
    {
      "cell_type": "code",
      "source": [],
      "metadata": {
        "id": "77n4boy55gRb"
      },
      "execution_count": 26,
      "outputs": []
    },
    {
      "cell_type": "code",
      "source": [
        "fig = plt.figure(figsize =(20, 14))"
      ],
      "metadata": {
        "colab": {
          "base_uri": "https://localhost:8080/",
          "height": 34
        },
        "id": "UKeSv8iH5gQM",
        "outputId": "3cf33624-162a-4ab1-88de-4e873685038f"
      },
      "execution_count": 27,
      "outputs": [
        {
          "output_type": "display_data",
          "data": {
            "text/plain": [
              "<Figure size 1440x1008 with 0 Axes>"
            ]
          },
          "metadata": {}
        }
      ]
    },
    {
      "cell_type": "code",
      "source": [
        "neo_data = asteroid_df['neo'].value_counts(normalize = True)*100\n",
        "neo_data"
      ],
      "metadata": {
        "id": "MtUcjIN5oy_M",
        "colab": {
          "base_uri": "https://localhost:8080/"
        },
        "outputId": "ea977ec5-d152-400c-a711-eb2ed5a9afbd"
      },
      "execution_count": 28,
      "outputs": [
        {
          "output_type": "execute_result",
          "data": {
            "text/plain": [
              "N    97.545625\n",
              "Y     2.454375\n",
              "Name: neo, dtype: float64"
            ]
          },
          "metadata": {},
          "execution_count": 28
        }
      ]
    },
    {
      "cell_type": "code",
      "source": [
        "lables = 'N', 'Y'"
      ],
      "metadata": {
        "id": "PosdxiTaqqYZ"
      },
      "execution_count": 29,
      "outputs": []
    },
    {
      "cell_type": "code",
      "source": [],
      "metadata": {
        "id": "OIJ9qnQGqqWq"
      },
      "execution_count": 29,
      "outputs": []
    },
    {
      "cell_type": "code",
      "source": [],
      "metadata": {
        "id": "YMce7kNUoy-I"
      },
      "execution_count": 29,
      "outputs": []
    },
    {
      "cell_type": "code",
      "execution_count": 30,
      "metadata": {
        "id": "-DZ3k3RqsTQp",
        "colab": {
          "base_uri": "https://localhost:8080/",
          "height": 265
        },
        "outputId": "d5a9f3b7-368c-45f7-8b54-ecc510b9bb9c"
      },
      "outputs": [
        {
          "output_type": "execute_result",
          "data": {
            "text/plain": [
              "<function matplotlib.pyplot.show(close=None, block=None)>"
            ]
          },
          "metadata": {},
          "execution_count": 30
        },
        {
          "output_type": "display_data",
          "data": {
            "text/plain": [
              "<Figure size 432x288 with 1 Axes>"
            ],
            "image/png": "[encoded data removed]"
          },
          "metadata": {}
        }
      ],
      "source": [
        "plt.pie(neo_data, labels = lables, autopct='%1.1f%%')\n",
        "plt.show"
      ]
    },
    {
      "cell_type": "markdown",
      "source": [
        "**Of the near earth objects, what percent of them are potentially hazardous asteroids?**\n",
        "\n"
      ],
      "metadata": {
        "id": "Zl6rdtRL2bBk"
      }
    },
    {
      "cell_type": "code",
      "source": [
        "neo_and_pha = asteroid_df[asteroid_df['neo']=='Y']['pha'].value_counts(normalize=True)*100\n",
        "neo_and_pha\n"
      ],
      "metadata": {
        "id": "Y1l2lmr-23f9",
        "colab": {
          "base_uri": "https://localhost:8080/"
        },
        "outputId": "27d24b85-86f7-4ef2-bfa1-4f5c6327663e"
      },
      "execution_count": 31,
      "outputs": [
        {
          "output_type": "execute_result",
          "data": {
            "text/plain": [
              "N    90.971464\n",
              "Y     9.028536\n",
              "Name: pha, dtype: float64"
            ]
          },
          "metadata": {},
          "execution_count": 31
        }
      ]
    },
    {
      "cell_type": "code",
      "source": [
        "lables = 'N', 'Y'"
      ],
      "metadata": {
        "id": "kaPh-s4VuEkH"
      },
      "execution_count": 32,
      "outputs": []
    },
    {
      "cell_type": "code",
      "source": [
        "plt.pie(neo_and_pha, autopct='%1.1f%%')\n",
        "plt.show"
      ],
      "metadata": {
        "colab": {
          "base_uri": "https://localhost:8080/",
          "height": 265
        },
        "id": "DDwQgogjuZ-G",
        "outputId": "2b0c5b34-7929-4f3e-d6ff-ca40533b770b"
      },
      "execution_count": 33,
      "outputs": [
        {
          "output_type": "execute_result",
          "data": {
            "text/plain": [
              "<function matplotlib.pyplot.show(close=None, block=None)>"
            ]
          },
          "metadata": {},
          "execution_count": 33
        },
        {
          "output_type": "display_data",
          "data": {
            "text/plain": [
              "<Figure size 432x288 with 1 Axes>"
            ],
            "image/png": "[encoded data removed]"
          },
          "metadata": {}
        }
      ]
    },
    {
      "cell_type": "markdown",
      "source": [
        "**How many asteroids of the dataset are potentially hazardous asteroids?**\n"
      ],
      "metadata": {
        "id": "yh7w-OfVx7yM"
      }
    },
    {
      "cell_type": "code",
      "source": [
        "asteroid_df['pha'].value_counts()"
      ],
      "metadata": {
        "colab": {
          "base_uri": "https://localhost:8080/"
        },
        "id": "-qZHPzHt0K4z",
        "outputId": "aecfa366-7705-4ea8-a3d0-8dfb0c4ba6d6"
      },
      "execution_count": 34,
      "outputs": [
        {
          "output_type": "execute_result",
          "data": {
            "text/plain": [
              "N    930269\n",
              "Y      2066\n",
              "Name: pha, dtype: int64"
            ]
          },
          "metadata": {},
          "execution_count": 34
        }
      ]
    },
    {
      "cell_type": "markdown",
      "source": [],
      "metadata": {
        "id": "iL8nEI8CTix6"
      }
    },
    {
      "cell_type": "code",
      "source": [
        "!pip install jovian --upgrade --quiet"
      ],
      "metadata": {
        "id": "t93M0KCHhk93"
      },
      "execution_count": 41,
      "outputs": []
    },
    {
      "cell_type": "code",
      "source": [
        "import jovian"
      ],
      "metadata": {
        "id": "D5fMVkA3h5TQ"
      },
      "execution_count": 43,
      "outputs": []
    },
    {
      "cell_type": "code",
      "execution_count": 45,
      "metadata": {
        "colab": {
          "base_uri": "https://localhost:8080/"
        },
        "outputId": "36e33b92-dcce-4cef-e391-01c2eae8fe72",
        "id": "pz6lhmk54Aes"
      },
      "outputs": [
        {
          "output_type": "stream",
          "name": "stdout",
          "text": [
            "[jovian] Detected Colab notebook...\u001b[0m\n",
            "[jovian] jovian.commit() is no longer required on Google Colab. If you ran this notebook from Jovian, \n",
            "then just save this file in Colab using Ctrl+S/Cmd+S and it will be updated on Jovian. \n",
            "Also, you can also delete this cell, it's no longer necessary.\u001b[0m\n"
          ]
        }
      ],
      "source": [
        "jovian.commit()"
      ]
    },
    {
      "cell_type": "code",
      "source": [],
      "metadata": {
        "id": "m4h1c7xv1snn"
      },
      "execution_count": 35,
      "outputs": []
    }
  ],
  "metadata": {
    "colab": {
      "provenance": [],
      "include_colab_link": true
    },
    "kernelspec": {
      "display_name": "Python 3 (ipykernel)",
      "language": "python",
      "name": "python3"
    },
    "language_info": {
      "codemirror_mode": {
        "name": "ipython",
        "version": 3
      },
      "file_extension": ".py",
      "mimetype": "text/x-python",
      "name": "python",
      "nbconvert_exporter": "python",
      "pygments_lexer": "ipython3",
      "version": "3.9.7"
    }
  },
  "nbformat": 4,
  "nbformat_minor": 0
}